{
 "cells": [
  {
   "cell_type": "markdown",
   "metadata": {},
   "source": [
    "*This notebook is part of  course materials for CS 345: Machine Learning Foundations and Practice at Colorado State University.\n",
    "Original versions were created by Asa Ben-Hur.\n",
    "The content is availabe [on GitHub](https://github.com/asabenhur/CS345).*\n",
    "\n",
    "*The text is released under the [CC BY-SA license](https://creativecommons.org/licenses/by-sa/4.0/), and code is released under the [MIT license](https://opensource.org/licenses/MIT).*"
   ]
  },
  {
   "cell_type": "markdown",
   "metadata": {},
   "source": [
    "<a href=\"https://colab.research.google.com/github//asabenhur/CS345/blob/master/fall23/notebooks/module05_04_classifier_accuracy.ipynb\">\n",
    "  <img align=\"left\" src=\"https://colab.research.google.com/assets/colab-badge.svg\" alt=\"Open In Colab\"/>\n",
    "</a>"
   ]
  },
  {
   "cell_type": "code",
   "execution_count": 1,
   "metadata": {},
   "outputs": [],
   "source": [
    "import numpy as np\n",
    "import matplotlib.pyplot as plt"
   ]
  },
  {
   "cell_type": "markdown",
   "metadata": {},
   "source": [
    "# Measuring classifier accuracy\n",
    "\n",
    "There is more to measuring classifier accuracy than using the standard accuracy measure defined as the fraction of examples that are classified correctly.  There are many situations in which this is not the right way of measuring accuracy.  One example is when dealing with data that is imbalanced, ie. when one class has many more examples than the other.\n",
    "\n",
    "### The confusion matrix\n",
    "\n",
    "Before introducing new measures of accuracy we will explore the **confusion matrix**.  This will give us some added insight on the errors made by the classifier.  We will do so using the iris dataset:"
   ]
  },
  {
   "cell_type": "code",
   "execution_count": 2,
   "metadata": {},
   "outputs": [
    {
     "name": "stdout",
     "output_type": "stream",
     "text": [
      "(150, 4) (150,)\n"
     ]
    }
   ],
   "source": [
    "from sklearn import datasets\n",
    "iris = datasets.load_iris()\n",
    "X=iris.data\n",
    "y=iris.target\n",
    "print(X.shape, y.shape)"
   ]
  },
  {
   "cell_type": "markdown",
   "metadata": {},
   "source": [
    "Let's apply a nearest neighbor classifier to the data:"
   ]
  },
  {
   "cell_type": "code",
   "execution_count": 3,
   "metadata": {},
   "outputs": [
    {
     "data": {
      "text/plain": [
       "0.96"
      ]
     },
     "execution_count": 3,
     "metadata": {},
     "output_type": "execute_result"
    }
   ],
   "source": [
    "from sklearn.neighbors import KNeighborsClassifier\n",
    "from sklearn.model_selection import cross_val_predict\n",
    "\n",
    "classifier = KNeighborsClassifier(n_neighbors=1)\n",
    "# produce a classification for each example using cross-validation:\n",
    "y_pred = cross_val_predict(classifier, X, y, cv=5)\n",
    "np.mean(y==y_pred)"
   ]
  },
  {
   "cell_type": "code",
   "execution_count": 5,
   "metadata": {},
   "outputs": [
    {
     "data": {
      "text/plain": [
       "0.9333333333333333"
      ]
     },
     "execution_count": 5,
     "metadata": {},
     "output_type": "execute_result"
    }
   ],
   "source": [
    "from sklearn import svm\n",
    "classifier = svm.SVC(kernel=\"rbf\", gamma=0.01)\n",
    "# produce a classification for each example using cross-validation:\n",
    "y_pred = cross_val_predict(classifier, X, y, cv=5)\n",
    "np.mean(y==y_pred)"
   ]
  },
  {
   "cell_type": "markdown",
   "metadata": {},
   "source": [
    "While knowing the level of accuracy of the classifier is important, you might want to dig in a little deeper.\n",
    "For example, you might ask:\n",
    "\n",
    "* Which classes tend to be confused with each other\n",
    "* What kinds of errors does the classifier tend to make\n",
    "\n",
    "All this information is captured by the **confusion matrix**.  To illustrate the concept, here is the confusion matrix for the predictions we just made:"
   ]
  },
  {
   "cell_type": "code",
   "execution_count": 6,
   "metadata": {},
   "outputs": [
    {
     "name": "stdout",
     "output_type": "stream",
     "text": [
      "['setosa' 'versicolor' 'virginica']\n",
      "[[50  0  0]\n",
      " [ 0 46  4]\n",
      " [ 0  6 44]]\n"
     ]
    }
   ],
   "source": [
    "from sklearn.metrics import confusion_matrix\n",
    "print (iris.target_names)\n",
    "matrix = confusion_matrix(y, y_pred)\n",
    "print (matrix)"
   ]
  },
  {
   "cell_type": "markdown",
   "metadata": {},
   "source": [
    "Scikit-learn has a function called [ConfusionMatrixDisplay](https://scikit-learn.org/stable/modules/generated/sklearn.metrics.ConfusionMatrixDisplay.html#sklearn-metrics-confusionmatrixdisplay) for creating a nicer visualization of the confusion matrix:"
   ]
  },
  {
   "cell_type": "code",
   "execution_count": 7,
   "metadata": {},
   "outputs": [
    {
     "data": {
      "image/png": "[encoded data removed]",
      "text/plain": [
       "<Figure size 600x400 with 2 Axes>"
      ]
     },
     "metadata": {},
     "output_type": "display_data"
    }
   ],
   "source": [
    "from sklearn.metrics import ConfusionMatrixDisplay \n",
    "\n",
    "disp = ConfusionMatrixDisplay(confusion_matrix=matrix, \n",
    "                              display_labels=iris.target_names)\n",
    "fig, ax = plt.subplots(figsize=(6,4))\n",
    "disp.plot(ax=ax, include_values=True, cmap=plt.cm.Blues);"
   ]
  },
  {
   "cell_type": "markdown",
   "metadata": {},
   "source": [
    "Note that scikit-learn uses a convention that is different than other sources for labeling the axes of the confusion matrix (see e.g. the [wikipedia article on the confusion matrix](https://en.wikipedia.org/wiki/Confusion_matrix))."
   ]
  },
  {
   "cell_type": "markdown",
   "metadata": {},
   "source": [
    "#### Definition of the confusion matrix\n",
    "\n",
    "Rows of the confusion matrix correspond to the true labels, while columns correspond to the predicted labels.\n",
    "The elements of the matrix in a given row quantify how predictions are distributed across the different classes.\n",
    "More formally, element $i, j$ in the matrix is the number of examples from class $i$ predicted to be in class $j$.\n",
    "As its name suggests, it tells us where the classifier tends to be confused."
   ]
  },
  {
   "cell_type": "markdown",
   "metadata": {},
   "source": [
    "#### Question\n",
    "\n",
    "* How do you compute the accuracy of the classifier from the confusion matrix?"
   ]
  },
  {
   "cell_type": "markdown",
   "metadata": {},
   "source": [
    "### What gets confused with what\n",
    "\n",
    "The confusion matrix provides more information than accuracy:  for this dataset it tells us that the classifier has some difficulty distinguishing between iris-versicolor and iris-virginica, while iris-setosa is perfectly distinguishable from the other two classes.\n",
    "This makes sense in view of the following visualization of the data that demonstrates the overlap between iris-versicolor and iris-virginica:"
   ]
  },
  {
   "cell_type": "code",
   "execution_count": 7,
   "metadata": {},
   "outputs": [],
   "source": [
    "def scatter_with_legend(X, y, ax, class_names) :\n",
    "    colors = ['ob', 'or', 'oc']\n",
    "    for c in range(len(class_names)):\n",
    "        idx = (y==c)\n",
    "        ax.plot(X[idx,0], X[idx,1], colors[c], \n",
    "                label = class_names[c], alpha=0.5)\n",
    "    ax.legend()"
   ]
  },
  {
   "cell_type": "code",
   "execution_count": 8,
   "metadata": {},
   "outputs": [
    {
     "data": {
      "image/png": "[encoded data removed]",
      "text/plain": [
       "<Figure size 576x288 with 2 Axes>"
      ]
     },
     "metadata": {
      "needs_background": "light"
     },
     "output_type": "display_data"
    }
   ],
   "source": [
    "f, (ax1, ax2) = plt.subplots(1, 2, figsize=(8,4))\n",
    "scatter_with_legend(X[:,[0, 1]], y, ax1, iris.target_names)\n",
    "scatter_with_legend(X[:,[2, 3]], y, ax2, iris.target_names)\n",
    "ax1.set_title('first two features of iris data')\n",
    "ax2.set_title('last two features of iris data');"
   ]
  },
  {
   "cell_type": "markdown",
   "metadata": {},
   "source": [
    "### The confusion matrix for binary classification problems\n",
    "\n",
    "For binary classification problems we have special terminology that we will present next.\n",
    "Let's take a look at a confusion matrix for the breast cancer prediction dataset:"
   ]
  },
  {
   "cell_type": "code",
   "execution_count": 9,
   "metadata": {},
   "outputs": [
    {
     "name": "stdout",
     "output_type": "stream",
     "text": [
      "number of examples  569\n",
      "number of features  30\n",
      "['malignant' 'benign']\n"
     ]
    }
   ],
   "source": [
    "from sklearn.datasets import load_breast_cancer\n",
    "data = load_breast_cancer()\n",
    "\n",
    "X = data.data\n",
    "y = data.target\n",
    "print('number of examples ', len(y))\n",
    "print('number of features ', len(X[0]))               \n",
    "print(data.target_names)"
   ]
  },
  {
   "cell_type": "code",
   "execution_count": 10,
   "metadata": {},
   "outputs": [
    {
     "data": {
      "image/png": "[encoded data removed]",
      "text/plain": [
       "<Figure size 432x288 with 2 Axes>"
      ]
     },
     "metadata": {
      "needs_background": "light"
     },
     "output_type": "display_data"
    }
   ],
   "source": [
    "from sklearn.model_selection import train_test_split\n",
    "from sklearn.svm import SVC\n",
    "\n",
    "X_train, X_test, y_train, y_test = train_test_split(X, y, \n",
    "                                                    test_size=0.3,\n",
    "                                                    random_state=11)\n",
    "\n",
    "classifier = SVC(C=1000, class_weight='balanced')\n",
    "\n",
    "classifier.fit(X_train, y_train)\n",
    "\n",
    "y_pred = classifier.predict(X_test)\n",
    "\n",
    "matrix = confusion_matrix(y_test, y_pred)\n",
    "\n",
    "# plot the confusion matrix\n",
    "disp = ConfusionMatrixDisplay(confusion_matrix=matrix, \n",
    "                              display_labels=data.target_names)\n",
    "fig, ax = plt.subplots(figsize=(6,4))\n",
    "disp.plot(ax=ax, include_values=True, \n",
    "          cmap=plt.cm.Blues, \n",
    "          values_format=\"d\");"
   ]
  },
  {
   "cell_type": "markdown",
   "metadata": {},
   "source": [
    "In the case of a binary classification problem the entries in the confusion matrix have names:\n",
    "\n",
    "| True / Predicted | positive            | negative            |\n",
    "| :--------------- |:------------------- | :------------------ |\n",
    "| **positive**     | true positive (TP)  | false negative (FN) |\n",
    "| **negative**     | false positive (FP) | true negative (TN)  |\n",
    "\n",
    "\n",
    "Let's define $\\mathrm{P} = \\mathrm{TP} + \\mathrm{FN}$ and $\\mathrm{N} = \\mathrm{FP} + \\mathrm{TN}$.\n",
    "In terms of the entries of the confusion matrix we can define additional measures of accuracy that are commonly used in machine learning:\n",
    "\n",
    "\n",
    "**Precision:**\n",
    "\n",
    "$$\n",
    " \\mathrm {precision} =\\frac {\\mathrm {TP} }{\\mathrm {TP} +\\mathrm {FP} }\n",
    "$$\n",
    "\n",
    "Precision tells us how accurate are the positive predictions, i.e. when the classifier makes a positive prediction, how likely it is to be correct.\n",
    "\n",
    "\n",
    "**Recall** (true positive rate):\n",
    "\n",
    "$$\n",
    "\\mathrm {recall} =\\frac {\\mathrm {TP} }{\\mathrm {P} }\n",
    "=\\frac {\\mathrm {TP} }{\\mathrm {TP} +\\mathrm {FN} }\n",
    "$$\n",
    "\n",
    "Recall tells us what fraction of the positive examples our classifier is able to classify correctly.\n",
    "The true negative rate, or specifcity is defined analogously as $\\mathrm{TN} / \\mathrm{N}$.\n",
    "\n",
    "\n",
    "A good classifier should have both high precision and high recall."
   ]
  },
  {
   "cell_type": "markdown",
   "metadata": {},
   "source": [
    "#### Exercise\n",
    "\n",
    "Compute precision and recall for the breast cancer prediction task."
   ]
  },
  {
   "cell_type": "code",
   "execution_count": null,
   "metadata": {},
   "outputs": [],
   "source": []
  },
  {
   "cell_type": "markdown",
   "metadata": {},
   "source": [
    "Next we will compute accuracy and balanced accuracy for binary classification problems based on the confusion matrix:\n",
    "\n",
    "**Accuracy**:\n",
    "\n",
    "$$\n",
    "\\mathrm{accuracy}= \n",
    "\\frac{\\mathrm{TP} + \\mathrm{TN}}{\\mathrm{P + N}}\n",
    "$$\n",
    "\n",
    "Earlier in the course we pointed out that the standard measure of accuracy is not a good indication of  success for data that is imbalanced.  In particular, we have seen that the majority classifier has very high accuracy for imbalanced data.  Balanced accuracy addresses this shortcoming.\n",
    "\n",
    "**Balanced accuracy** is the mean of recall (true positive rate) and specificity (true negative rate):\n",
    "\n",
    "$$\n",
    "\\mathrm{balanced\\!-\\!accuracy}= \n",
    "\\frac{1}{2}\\left( \\frac{\\mathrm{TP}}{\\mathrm{P}} + \\frac{\\mathrm{TN}}{\\mathrm{N}}  \\right)\n",
    "$$\n",
    "\n",
    "The **F1 score** is the harmonic mean of precision and recall:\n",
    "\n",
    "$$\n",
    "\\mathrm {F} _{1}=2\\cdot {\\frac {\\mathrm {precision} \\cdot \\mathrm {recall} }{\\mathrm {precision} +\\mathrm {recall} }}\n",
    "$$\n",
    "\n",
    "The F1 score is commonly used in the field of information retrieval to measure performance in search, text categorization, and other natural language processing applications.\n",
    "The F1 score focuses on true positives and does not take into account into account true negatives.  Its focus is on how well a classifier is performing in retrieving relevant items.\n",
    "\n",
    "### Exercises\n",
    "\n",
    "* Recall and precision are competing goals.  Give examples of applications where high precision is more important than high recall.  Similarly, think of applications where high recall is more important.\n",
    "* What is the balanced accuracy of the majority classifier?\n",
    "* Show that when the data has an equal number of positive and negative examples, balanced accuracy is equal to accuracy."
   ]
  },
  {
   "cell_type": "markdown",
   "metadata": {},
   "source": [
    "## Rank Based Evaluation\n",
    "\n",
    "Most of the classifiers we have looked at so far produce some measure of confidence in the prediction (the so-called *decision function*).  For linear classifiers it indicates a distance from the separating hyperplane.  For a KNN classifier it can be an indication of the strength of the majority voting for a given example.\n",
    "Now let's consider the situation where our classifier is providing us a list of items that are relevant.  For example, our classifier might give us documents that are relevant to a given concept, e.g. documents that discuss a certain topic of interest.  As a user, we will first consider those items that are high confidence, and as such, we are more interested in the precision of those high confidence items.\n",
    "So we will look at how precision varies as you go down the list of predictions, generating what's known as the **precision-recall curve**."
   ]
  },
  {
   "cell_type": "code",
   "execution_count": 11,
   "metadata": {},
   "outputs": [
    {
     "name": "stdout",
     "output_type": "stream",
     "text": [
      "number of examples  569\n",
      "number of features  2\n",
      "new number of examples  569\n",
      "new number of features  2\n",
      "['malignant' 'benign']\n"
     ]
    }
   ],
   "source": [
    "from sklearn.datasets import load_breast_cancer\n",
    "data = load_breast_cancer()\n",
    "\n",
    "X = data.data[:,8:10]\n",
    "y = data.target\n",
    "print('number of examples ', len(y))\n",
    "print('number of features ', len(X[0]))\n",
    "num_examples, num_features = X.shape\n",
    "rng = np.random.default_rng(seed=42)\n",
    "\n",
    "# if you want to make the problem more challenging, uncomment the \n",
    "# following statement:\n",
    "#X = np.concatenate([X, \n",
    "#                    rng.normal(size=(num_examples, 10000))], \n",
    "#                   axis=1)\n",
    "\n",
    "print('new number of examples ', len(y))\n",
    "print('new number of features ', len(X[0]))                    \n",
    "print(data.target_names)"
   ]
  },
  {
   "cell_type": "code",
   "execution_count": 12,
   "metadata": {},
   "outputs": [],
   "source": [
    "from sklearn.svm import SVC\n",
    "X_train, X_test, y_train, y_test = train_test_split(X, y, \n",
    "                                                    test_size=0.3,\n",
    "                                                    random_state=11)\n",
    "\n",
    "classifier = SVC(C=1000)\n",
    "classifier.fit(X_train, y_train)\n",
    "\n",
    "f_pred = classifier.decision_function(X_test)"
   ]
  },
  {
   "cell_type": "code",
   "execution_count": 13,
   "metadata": {},
   "outputs": [
    {
     "data": {
      "image/png": "[encoded data removed]",
      "text/plain": [
       "<Figure size 432x288 with 1 Axes>"
      ]
     },
     "metadata": {
      "needs_background": "light"
     },
     "output_type": "display_data"
    }
   ],
   "source": [
    "from sklearn.metrics import PrecisionRecallDisplay\n",
    "display = PrecisionRecallDisplay.from_predictions(y_test, f_pred, \n",
    "                                                  name=\"SVC\")\n",
    "display.ax_.set_title(\"Precision-Recall curve\");\n",
    "display.ax_.set_ylim([0,1.1]);"
   ]
  },
  {
   "cell_type": "markdown",
   "metadata": {},
   "source": [
    "The area under the precision-recall curve (AUC-PR) is a measure of a classifier's accuracy.  A perfect classifier will have an AUC-PR equal to 1.  Roughly speaking, the AUC-PR is an average over precision for all levels of recall, although there are slight differences due to implementation details.  Average precision is shown in the legend of the curve above and next we compute the area under the precision recall curve:"
   ]
  },
  {
   "cell_type": "code",
   "execution_count": 14,
   "metadata": {},
   "outputs": [
    {
     "data": {
      "text/plain": [
       "0.7997063618256229"
      ]
     },
     "execution_count": 14,
     "metadata": {},
     "output_type": "execute_result"
    }
   ],
   "source": [
    "from sklearn.metrics import precision_recall_curve\n",
    "from sklearn.metrics import auc\n",
    "\n",
    "precision, recall, thresholds = precision_recall_curve(y_test, f_pred)\n",
    "\n",
    "auc(recall, precision)"
   ]
  },
  {
   "cell_type": "markdown",
   "metadata": {},
   "source": [
    "Another rank-based evaluation score uses the **Receiver-Operator Characteristic curve**, aka the [ROC curve](https://en.wikipedia.org/wiki/Receiver_operating_characteristic), which is also implemented in scikit-learn (see [sklearn.metrics.roc_curve](https://scikit-learn.org/stable/modules/generated/sklearn.metrics.roc_curve.html) )."
   ]
  },
  {
   "cell_type": "markdown",
   "metadata": {},
   "source": [
    "### Conclusions\n",
    "\n",
    "Quantifying classifier accuracy is extremely important, and different problems benefit from different ways of measuring it, depending on the goals of the end-user.  The list of measures we discussed here is far from being complete, even for binary classification problems.  Multi-class, multi-label and other types of classification problems require specialized measures that we also did not discuss."
   ]
  }
 ],
 "metadata": {
  "kernelspec": {
   "display_name": "Python 3 (ipykernel)",
   "language": "python",
   "name": "python3"
  },
  "language_info": {
   "codemirror_mode": {
    "name": "ipython",
    "version": 3
   },
   "file_extension": ".py",
   "mimetype": "text/x-python",
   "name": "python",
   "nbconvert_exporter": "python",
   "pygments_lexer": "ipython3",
   "version": "3.10.9"
  }
 },
 "nbformat": 4,
 "nbformat_minor": 4
}

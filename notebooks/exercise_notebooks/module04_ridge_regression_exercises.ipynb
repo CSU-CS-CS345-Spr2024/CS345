{
 "cells": [
  {
   "cell_type": "markdown",
   "metadata": {},
   "source": [
    "*This notebook is part of  course materials for CS 345: Machine Learning Foundations and Practice at Colorado State University.\n",
    "Original versions were created by Asa Ben-Hur.\n",
    "The content is availabe [on GitHub](https://github.com/asabenhur/CS345).*\n",
    "\n",
    "*The text is released under the [CC BY-SA license](https://creativecommons.org/licenses/by-sa/4.0/), and code is released under the [MIT license](https://opensource.org/licenses/MIT).*\n",
    "\n",
    "<img style=\"padding: 10px; float:right;\" alt=\"CC-BY-SA icon.svg in public domain\" src=\"https://upload.wikimedia.org/wikipedia/commons/d/d0/CC-BY-SA_icon.svg\" width=\"125\">\n"
   ]
  },
  {
   "cell_type": "markdown",
   "metadata": {},
   "source": [
    "<a href=\"https://colab.research.google.com/github//asabenhur/CS345/blob/master/notebooks/exercise_notebooks/module04_ridge_regression_exercises.ipynb\">\n",
    "  <img align=\"left\" src=\"https://colab.research.google.com/assets/colab-badge.svg\" alt=\"Open In Colab\"/>\n",
    "</a>"
   ]
  },
  {
   "cell_type": "code",
   "execution_count": 1,
   "metadata": {},
   "outputs": [
    {
     "data": {
      "application/javascript": [
       "IPython.notebook.set_autosave_interval(0)"
      ]
     },
     "metadata": {},
     "output_type": "display_data"
    },
    {
     "name": "stdout",
     "output_type": "stream",
     "text": [
      "Autosave disabled\n"
     ]
    }
   ],
   "source": [
    "import matplotlib.pyplot as plt\n",
    "import numpy as np\n",
    "import pandas as pd\n",
    "%matplotlib inline\n",
    "%autosave 0"
   ]
  },
  {
   "cell_type": "markdown",
   "metadata": {},
   "source": [
    "# Solving ridge regression using gradient descent\n",
    "\n",
    "In this notebook you will implement ridge regression based on our implementation of linear regression.\n"
   ]
  },
  {
   "cell_type": "markdown",
   "metadata": {},
   "source": [
    "### The gradient for linear regression\n",
    "\n",
    "The mean-squared-error is our cost function for linear regression:\n",
    "\n",
    "$$\n",
    "J(\\mathbf{w}) = \\frac{1}{N}\\sum_{i=1}^N(y_i-\\hat{y}_i)^2 = \\frac{1}{N}\\sum_{i=1}^N(y_i - \\mathbf{w}^\\top \\mathbf{x}_i)^2 .\n",
    "$$\n",
    "\n",
    "For simplicity, we are ignoring the bias term $b$.  Before taking the gradient, we'll express it as:\n",
    "\n",
    "The gradient:\n",
    "\n",
    "\\begin{equation}\n",
    "\\begin{split}\n",
    "\\frac{\\partial J(\\mathbf{w})}{\\partial \\mathbf{w}} & = \n",
    "\\frac{1}{N}\\sum_{i=1}^N \\left( - 2y_i \\mathbf{x}_i + 2(\\mathbf{w}^\\top \\mathbf{x}_i)\\mathbf{x}_i \\right) \\\\\n",
    " & = -\\frac{1}{N}\\sum_{i=1}^N 2 \\left( y_i - \\mathbf{w}^\\top \\mathbf{x}_i\\right) \\mathbf{x}_i  .\n",
    "\\end{split}\n",
    "\\end{equation}\n"
   ]
  },
  {
   "cell_type": "markdown",
   "metadata": {},
   "source": [
    "### Gradient descent\n",
    "\n",
    "In the same way we were able to find the minimum of a univariate function using derivatives, we can find the minimum of a multi-dimensional surface by following the gradient.  This process is called **gradient descent**, and is described next.\n",
    "\n",
    "Given a function $J(\\mathbf{w})$, the gradient is the direction of steepest ascent.\n",
    "Therefore to minimize $J(\\mathbf{w})$, we iteratively take small steps in the direction of the negative of the gradient.\n"
   ]
  },
  {
   "cell_type": "markdown",
   "metadata": {},
   "source": [
    "Gradient descent is an iterative algorithm as follows:\n",
    "\n",
    "* Initialize $\\mathbf{w}(0),\\eta$\n",
    "* for $t = 0,1,\\ldots$\n",
    "  * $\\mathbf{w}(t+1) = \\mathbf{w}(t) - \\eta \\frac{\\partial J}{\\partial \\mathbf{w}}$\n",
    "  * if converged, break\n",
    "  \n",
    "The halting condition for the algorithm can be specified in terms of the number of epochs like we did for the perceptron, or in terms of convergence of the loss function (the mean-squared-error).  In other words, if there is little change of the loss function across epochs."
   ]
  },
  {
   "cell_type": "markdown",
   "metadata": {},
   "source": [
    "### Linear regression using gradient descent\n",
    "\n",
    "We are now ready to implement linear regression using gradient descent, and apply it to the advertising data."
   ]
  },
  {
   "cell_type": "code",
   "execution_count": 2,
   "metadata": {},
   "outputs": [
    {
     "data": {
      "text/plain": [
       "((200, 2), (200,))"
      ]
     },
     "execution_count": 2,
     "metadata": {},
     "output_type": "execute_result"
    }
   ],
   "source": [
    "data = pd.read_csv('http://faculty.marshall.usc.edu/gareth-james/ISL/Advertising.csv', index_col=0)\n",
    "X = data[['TV', 'radio']].values\n",
    "y = data['sales'].values\n",
    "X.shape, y.shape"
   ]
  },
  {
   "cell_type": "code",
   "execution_count": 4,
   "metadata": {},
   "outputs": [],
   "source": [
    "class linear_regression :\n",
    "    def __init__(self, learning_rate=0.00001, \n",
    "                 bias_learning_rate=0.01, epochs=1000) :\n",
    "        self.learning_rate = learning_rate\n",
    "        self.bias_learning_rate = bias_learning_rate\n",
    "        self.epochs = epochs\n",
    "\n",
    "    def compute_loss(self, X, y):\n",
    "        squared_errors = np.power((self.predict(X) - y), 2)\n",
    "        return np.sum(squared_errors) / len(X)\n",
    "  \n",
    "    def predict(self, X) :\n",
    "        return X @ self.w + self.b\n",
    "                              \n",
    "    def fit(self, X, y):\n",
    "        self.w = np.zeros( (X.shape[1]), np.float)\n",
    "        self.b = 0.0\n",
    "        # self.loss stores a history of the loss function values\n",
    "        self.loss = []\n",
    "        for i in range(self.epochs):\n",
    "            y_pred = self.predict(X)\n",
    "            # compute individual gradients and then average them:\n",
    "            gradients_w = np.array([-2*(y[i]-y_pred[i])*X[i] \n",
    "                                    for i in range(len(X))])\n",
    "            gradient_w = np.mean(gradients_w, axis=0)\n",
    "            # updating w with the gradient\n",
    "            #print(gradient_w.shape)\n",
    "            self.w = self.w - self.learning_rate * gradient_w\n",
    "            gradient_b = - 2 * np.mean( (y - y_pred) )\n",
    "            #gradients_b = [-2*(y[i]-y_pred[i]) for i in range(len(X))]\n",
    "            #gradient_b = np.sum(gradients_b) / len(X)\n",
    "            # updating b with the gradient:\n",
    "            self.b = self.b - self.bias_learning_rate * gradient_b\n",
    "\n",
    "            self.loss.append(self.compute_loss(X, y))\n"
   ]
  },
  {
   "cell_type": "code",
   "execution_count": 5,
   "metadata": {},
   "outputs": [],
   "source": [
    "linreg = linear_regression()\n",
    "linreg.fit(X, y)"
   ]
  },
  {
   "cell_type": "code",
   "execution_count": 6,
   "metadata": {},
   "outputs": [
    {
     "data": {
      "image/png": "[encoded data removed]",
      "text/plain": [
       "<Figure size 360x216 with 1 Axes>"
      ]
     },
     "metadata": {
      "needs_background": "light"
     },
     "output_type": "display_data"
    }
   ],
   "source": [
    "plt.figure(figsize=(5,3))\n",
    "plt.plot(linreg.loss[:50], 'b')\n",
    "plt.xlabel('epochs')\n",
    "plt.ylabel('loss');"
   ]
  },
  {
   "cell_type": "markdown",
   "metadata": {},
   "source": [
    "Let's compare the learned parameters with the solution using the scikit-learn implementation:"
   ]
  },
  {
   "cell_type": "code",
   "execution_count": 7,
   "metadata": {},
   "outputs": [
    {
     "name": "stdout",
     "output_type": "stream",
     "text": [
      "[0.04575482 0.18799423] 2.9210999124051362\n",
      "[0.04552492 0.18527279] 3.030795322196597\n"
     ]
    }
   ],
   "source": [
    "from sklearn.linear_model import LinearRegression\n",
    "\n",
    "# instantiate and fit\n",
    "linreg_sklearn = LinearRegression()\n",
    "linreg_sklearn.fit(X, y)\n",
    "\n",
    "# print the coefficients\n",
    "print (linreg_sklearn.coef_, linreg_sklearn.intercept_)\n",
    "print (linreg.w, linreg.b)"
   ]
  },
  {
   "cell_type": "markdown",
   "metadata": {},
   "source": [
    "### Ridge regression ($L_2$ regularization)\n",
    "\n",
    "Our orginal loss function\n",
    "\n",
    "$$\n",
    "J(\\mathbf{w}) = \\frac{1}{N}\\sum_{i=1}^N(y_i-\\hat{y}_i)^2 = \\frac{1}{N}\\sum_{i=1}^N(y_i - \\mathbf{w}^\\top \\mathbf{x}_i)^2 \n",
    "$$\n",
    "\n",
    "is replaced by a regularized version that adds another term to the loss function:\n",
    "\n",
    "$$\n",
    "J(\\mathbf{w}) = \\frac{1}{N}\\sum_{i=1}^N(y_i-\\hat{y}_i)^2 + \\alpha \\,||\\mathbf{w}||^2.\n",
    "$$\n",
    "\n",
    "Here, $\\alpha>0$ is a parameter that controls the trade-off between fitting and regularization.\n",
    "The regularizer $\\mathbf{w}^\\top \\mathbf{w}$ is known as the $L_2$ regularizer.  Linear regression with the $L_2$ regularizer is known as *ridge regression*.\n"
   ]
  },
  {
   "cell_type": "markdown",
   "metadata": {},
   "source": [
    "### Exercise\n",
    "\n",
    "* Derive the gradient for ridge regression.\n",
    "* Implement ridge regression by modifying the implementation of linear regression."
   ]
  },
  {
   "cell_type": "code",
   "execution_count": null,
   "metadata": {},
   "outputs": [],
   "source": []
  }
 ],
 "metadata": {
  "kernelspec": {
   "display_name": "Python 3",
   "language": "python",
   "name": "python3"
  },
  "language_info": {
   "codemirror_mode": {
    "name": "ipython",
    "version": 3
   },
   "file_extension": ".py",
   "mimetype": "text/x-python",
   "name": "python",
   "nbconvert_exporter": "python",
   "pygments_lexer": "ipython3",
   "version": "3.7.6"
  }
 },
 "nbformat": 4,
 "nbformat_minor": 4
}

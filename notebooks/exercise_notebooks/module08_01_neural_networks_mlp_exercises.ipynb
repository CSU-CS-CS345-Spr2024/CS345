{
 "cells": [
  {
   "cell_type": "markdown",
   "metadata": {},
   "source": [
    "*This notebook is part of  course materials for CS 345: Machine Learning Foundations and Practice at Colorado State University.\n",
    "Original versions were created by Asa Ben-Hur.\n",
    "The content is availabe [on GitHub](https://github.com/asabenhur/CS345).*\n",
    "\n",
    "*The text is released under the [CC BY-SA license](https://creativecommons.org/licenses/by-sa/4.0/), and code is released under the [MIT license](https://opensource.org/licenses/MIT).*\n",
    "\n",
    "<img style=\"padding: 10px; float:right;\" alt=\"CC-BY-SA icon.svg in public domain\" src=\"https://upload.wikimedia.org/wikipedia/commons/d/d0/CC-BY-SA_icon.svg\" width=\"125\">\n"
   ]
  },
  {
   "cell_type": "code",
   "execution_count": 2,
   "metadata": {},
   "outputs": [
    {
     "data": {
      "application/javascript": [
       "IPython.notebook.set_autosave_interval(0)"
      ]
     },
     "metadata": {},
     "output_type": "display_data"
    },
    {
     "name": "stdout",
     "output_type": "stream",
     "text": [
      "Autosave disabled\n"
     ]
    }
   ],
   "source": [
    "import numpy as np\n",
    "import matplotlib.pyplot as plt\n",
    "%autosave 0\n",
    "%matplotlib inline"
   ]
  },
  {
   "cell_type": "markdown",
   "metadata": {},
   "source": [
    "# Neural Networks\n",
    "\n",
    "Neural networks are models inspired by the workings of the human brain and the ability of brains to learn and adapt.  Neural networks build on the foundations of humble linear models like the perceptron and logistic regression."
   ]
  },
  {
   "cell_type": "markdown",
   "metadata": {},
   "source": [
    "### The XOR problem\n",
    "\n",
    "Linear models do not always give acceptable levels of accuracy.  As a toy example consider the XOR problem, which is a canonical example of a problem that is not linearly separable:"
   ]
  },
  {
   "cell_type": "code",
   "execution_count": 2,
   "metadata": {},
   "outputs": [
    {
     "data": {
      "image/png": "[encoded data removed]",
      "text/plain": [
       "<Figure size 216x216 with 1 Axes>"
      ]
     },
     "metadata": {
      "needs_background": "light"
     },
     "output_type": "display_data"
    }
   ],
   "source": [
    "X = np.array([[0, 0], [1, 0], [0, 1], [1, 1]])\n",
    "y = np.array([1, 0, 0, 1])\n",
    "\n",
    "plt.figure(figsize=(3,3))\n",
    "plt.scatter(X[:,0], X[:,1], c=y, s=100, alpha=0.5, cmap='bwr');\n",
    "plt.xlabel('$x_1$')\n",
    "plt.ylabel('$x_2$');"
   ]
  },
  {
   "cell_type": "code",
   "execution_count": 4,
   "metadata": {},
   "outputs": [],
   "source": [
    "def sigmoid(s):\n",
    "    return 1/(1+np.exp(-s))\n",
    "\n",
    "def sigmoid_derivative(s):\n",
    "    return sigmoid(s) *(1-sigmoid(s))\n",
    "\n",
    "def step(s) :\n",
    "    return s > 0"
   ]
  },
  {
   "cell_type": "markdown",
   "metadata": {},
   "source": [
    "The sigmoid function has a severe problem: \"vanishing gradients.\"  As you can see in the plot of the derivative, as the input to the sigmoid increases in magnitude, the derivative approaches zero very rapidly.  This means that if a hidden neuron in the network recieves a large input, the derivative to the weights resulting from that input will be very small.  This isn't typically a significant issue for small networks, but for modern networks that have many layers, it can become difficult to train the network effectively.  \n",
    "\n",
    "With the advent of \"deep learning,\" the activation function that is used more commonly is the Rectified Linear Unit or ReLU.  ReLU is defined as\n",
    "\n",
    "$$ \\text{ReLU}(x) = \\begin{cases} x, & x \\geq 0 \\\\ 0, & x < 0 \\end{cases} $$\n",
    "\n",
    "Its derivative is\n",
    "\n",
    "$$ \\text{ReLU}'(x) = \\begin{cases} 1, & x > 0 \\\\ 0, & x < 0 \\end{cases} $$\n",
    "\n",
    "with the derivative at zero being somewhat arbitrary (typically a value of 0, 0.5, or 1 is chosen) due to the piecewise nature of the function.\n",
    "\n",
    "In addition to not suffering from the vanishing gradient problem, the ReLU function is faster to evaluate."
   ]
  },
  {
   "cell_type": "code",
   "execution_count": 6,
   "metadata": {},
   "outputs": [],
   "source": [
    "def ReLU(x):\n",
    "    return np.maximum(0, x)\n",
    "\n",
    "def ReLU_derivative(x):\n",
    "    dy = np.ones(x.shape)\n",
    "    dy[x<0] = 0\n",
    "    return dy"
   ]
  },
  {
   "cell_type": "code",
   "execution_count": 7,
   "metadata": {},
   "outputs": [
    {
     "data": {
      "image/png": "[encoded data removed]",
      "text/plain": [
       "<Figure size 576x288 with 2 Axes>"
      ]
     },
     "metadata": {
      "needs_background": "light"
     },
     "output_type": "display_data"
    }
   ],
   "source": [
    "fig = plt.figure(figsize=(8, 4))\n",
    "ax1 = fig.add_subplot(121)\n",
    "ax2 = fig.add_subplot(122)\n",
    "plt.subplots_adjust(wspace=0.3)\n",
    "\n",
    "x = np.linspace(-10, 10, 1000)\n",
    "y = ReLU(x)\n",
    "\n",
    "dy = ReLU_derivative(x)\n",
    "\n",
    "ax1.plot(x, y)\n",
    "ax1.set_xlabel('$x$', fontsize=15)\n",
    "ax1.set_ylabel('ReLU$(x)$', fontsize=15)\n",
    "ax1.set_title('ReLU')\n",
    "ax2.plot(x, dy)\n",
    "ax2.set_xlabel('$x$', fontsize=15)\n",
    "ax2.set_ylabel(\"ReLU$'(x)$\", fontsize=15)\n",
    "ax2.set_title(\"ReLU derivative\");"
   ]
  },
  {
   "cell_type": "markdown",
   "metadata": {},
   "source": [
    "### The forward function\n",
    "\n",
    "In feed forward neural networks the computation of the network output is often referred to as a *forward pass*.\n",
    "For our simple network with a single hidden layer which has two neurons the output of the network can be written as:\n",
    "\n",
    "$$ \n",
    "f(\\textbf{x}) = v_1 \\sigma \\underbrace{\\left(\\textbf{w}_1^T \\textbf{x} + b_1\\right)}_{h_1(\\mathbf{x})} + v_2 \\sigma\\underbrace{\\left(\\textbf{w}_2^T \\textbf{x} + b_2\\right)}_{h_2(\\mathbf{x})} + c. \n",
    "$$\n",
    "\n",
    "Let's express that in code using Numpy:"
   ]
  },
  {
   "cell_type": "code",
   "execution_count": 8,
   "metadata": {},
   "outputs": [],
   "source": [
    "# first, create some random values for the parameters:\n",
    "from numpy.random import default_rng\n",
    "rng = default_rng(42)\n",
    "w1 = rng.normal(0, 0.1, 2)\n",
    "w2 = rng.normal(0, 0.1, 2)\n",
    "b = rng.normal(0, 0.1, 2)\n",
    "v = rng.normal(0, 0.1, 2)\n",
    "c = rng.normal(0, 0.1, 1)[0]"
   ]
  },
  {
   "cell_type": "code",
   "execution_count": 9,
   "metadata": {},
   "outputs": [
    {
     "data": {
      "text/plain": [
       "-0.0016801157504288797"
      ]
     },
     "execution_count": 9,
     "metadata": {},
     "output_type": "execute_result"
    }
   ],
   "source": [
    "# we'll apply the network to the second element in the dataset:\n",
    "x = X[1]\n",
    "h1 = ReLU(np.dot(w1, x) + b[0])\n",
    "h2 = ReLU(np.dot(w2, x) + b[1])\n",
    "\n",
    "output = v[0] * h1 + v[1] * h2 + c\n",
    "output"
   ]
  },
  {
   "cell_type": "markdown",
   "metadata": {},
   "source": [
    "We can write that in a single line:"
   ]
  },
  {
   "cell_type": "code",
   "execution_count": 10,
   "metadata": {},
   "outputs": [
    {
     "data": {
      "text/plain": [
       "-0.0016801157504288797"
      ]
     },
     "execution_count": 10,
     "metadata": {},
     "output_type": "execute_result"
    }
   ],
   "source": [
    "output = (v[0] * ReLU(np.dot(w1, x) + b[0]) + \n",
    "          v[1] * ReLU(np.dot(w2, x) + b[1]) + c)\n",
    "output"
   ]
  },
  {
   "cell_type": "markdown",
   "metadata": {},
   "source": [
    "By stacking together the weight vectors of the two hidden units we can express the output more succinctly:"
   ]
  },
  {
   "cell_type": "code",
   "execution_count": 11,
   "metadata": {},
   "outputs": [],
   "source": [
    "rng = default_rng(42)\n",
    "W = rng.normal(0, 0.1, (2, 2))\n",
    "b = rng.normal(0, 0.1, (2,1))\n",
    "v = rng.normal(0, 0.1, (2,1))\n",
    "c = rng.normal(0, 0.1, 1)[0]"
   ]
  },
  {
   "cell_type": "markdown",
   "metadata": {},
   "source": [
    "We can do this either using `np.dot`"
   ]
  },
  {
   "cell_type": "code",
   "execution_count": 12,
   "metadata": {},
   "outputs": [
    {
     "data": {
      "text/plain": [
       "array([[-0.00168012, -0.00168012, -0.00168012, -0.00290978]])"
      ]
     },
     "execution_count": 12,
     "metadata": {},
     "output_type": "execute_result"
    }
   ],
   "source": [
    "np.dot(v.T, ReLU(np.dot(W, X.T) + b)) + c"
   ]
  },
  {
   "cell_type": "markdown",
   "metadata": {},
   "source": [
    "or using the matrix multiplication operator:"
   ]
  },
  {
   "cell_type": "code",
   "execution_count": 13,
   "metadata": {},
   "outputs": [
    {
     "data": {
      "text/plain": [
       "array([[-0.00168012, -0.00168012, -0.00168012, -0.00290978]])"
      ]
     },
     "execution_count": 13,
     "metadata": {},
     "output_type": "execute_result"
    }
   ],
   "source": [
    "v.T @ ReLU(W @ X.T + b) + c"
   ]
  },
  {
   "cell_type": "markdown",
   "metadata": {},
   "source": [
    "### Exercise\n",
    "\n",
    "Write the forward function for a neural network with two hidden layers, each of which has two neurons. In other words, compute the output of a neural network with this architecture."
   ]
  },
  {
   "cell_type": "code",
   "execution_count": null,
   "metadata": {},
   "outputs": [],
   "source": []
  }
 ],
 "metadata": {
  "kernelspec": {
   "display_name": "Python 3",
   "language": "python",
   "name": "python3"
  },
  "language_info": {
   "codemirror_mode": {
    "name": "ipython",
    "version": 3
   },
   "file_extension": ".py",
   "mimetype": "text/x-python",
   "name": "python",
   "nbconvert_exporter": "python",
   "pygments_lexer": "ipython3",
   "version": "3.7.6"
  }
 },
 "nbformat": 4,
 "nbformat_minor": 2
}

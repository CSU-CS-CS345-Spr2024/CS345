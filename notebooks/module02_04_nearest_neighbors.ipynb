{
 "cells": [
  {
   "cell_type": "markdown",
   "metadata": {},
   "source": [
    "*This notebook is part of  course materials for CS 345: Machine Learning Foundations and Practice at Colorado State University.\n",
    "Original versions were created by Asa Ben-Hur.\n",
    "The content is availabe [on GitHub](https://github.com/asabenhur/CS345).*\n",
    "\n",
    "*The text is released under the [CC BY-SA license](https://creativecommons.org/licenses/by-sa/4.0/), and code is released under the [MIT license](https://opensource.org/licenses/MIT).*\n",
    "\n",
    "<img style=\"padding: 10px; float:right;\" alt=\"CC-BY-SA icon.svg in public domain\" src=\"https://upload.wikimedia.org/wikipedia/commons/d/d0/CC-BY-SA_icon.svg\" width=\"125\">\n"
   ]
  },
  {
   "cell_type": "markdown",
   "metadata": {},
   "source": [
    "<a href=\"https://colab.research.google.com/github//asabenhur/CS345/blob/master/notebooks/module02_04_nearest_neighbors.ipynb\">\n",
    "  <img align=\"left\" src=\"https://colab.research.google.com/assets/colab-badge.svg\" alt=\"Open In Colab\"/>\n",
    "</a>"
   ]
  },
  {
   "cell_type": "code",
   "execution_count": 1,
   "metadata": {},
   "outputs": [
    {
     "data": {
      "application/javascript": [
       "IPython.notebook.set_autosave_interval(0)"
      ]
     },
     "metadata": {},
     "output_type": "display_data"
    },
    {
     "name": "stdout",
     "output_type": "stream",
     "text": [
      "Autosave disabled\n"
     ]
    }
   ],
   "source": [
    "import numpy as np\n",
    "from matplotlib import pylab as plt\n",
    "%matplotlib inline\n",
    "%autosave 0"
   ]
  },
  {
   "cell_type": "markdown",
   "metadata": {},
   "source": [
    "# Nearest neighbor classification\n",
    "\n",
    "The nearest neighbor classifier is one of the simplest machine learning methods available.\n",
    "Here's the simplest version of it:\n",
    "\n",
    "```\n",
    "Nearest neighbor classifier\n",
    "\n",
    "- Find the example in the training data that is closest to\n",
    "  the example that needs to be classified.\n",
    "- Return its label\n",
    "```"
   ]
  },
  {
   "cell_type": "markdown",
   "metadata": {},
   "source": [
    "## Measuring distance\n",
    "\n",
    "To implement this idea we need to define a concrete notion of closeness.\n",
    "We'll do that using the **distance** between examples. \n",
    "\n",
    "First recall that the *norm* of a vector was defined as:\n",
    "\n",
    "$$\n",
    "||\\mathbf{x}||^2 = \\mathbf{x}^\\top \\mathbf{x}.\n",
    "$$\n",
    "\n",
    "Using this notation, we can define the **Euclidean distance** $d_2(\\mathbf{x}, \\mathbf{x}')$ between vectors $\\mathbf{x}$ and $\\mathbf{x}'$ as:\n",
    "\n",
    "$$\n",
    "d_2(\\mathbf{x}, \\mathbf{x}')^2 = ||\\mathbf{x} - \\mathbf{x}'||^2 = \n",
    "(\\mathbf{x} - \\mathbf{x}')^\\top (\\mathbf{x} - \\mathbf{x}') = \n",
    "\\sum_{i=1}^d (x_i - x_i')^2.\n",
    "$$\n",
    "\n",
    "Here are some Numpy implementations that directly reflect the different ways of expressing this definition:"
   ]
  },
  {
   "cell_type": "code",
   "execution_count": null,
   "metadata": {},
   "outputs": [],
   "source": [
    "def distance(x1, x2):\n",
    "    return np.linalg.norm(x1-x2)\n",
    "\n",
    "distance2(np.array([2,1]), np.array([1,0]))"
   ]
  },
  {
   "cell_type": "code",
   "execution_count": 2,
   "metadata": {},
   "outputs": [
    {
     "data": {
      "text/plain": [
       "1.4142135623730951"
      ]
     },
     "execution_count": 2,
     "metadata": {},
     "output_type": "execute_result"
    }
   ],
   "source": [
    "def distance2(x1, x2):\n",
    "    return np.sqrt(np.dot(x1-x2, x1-x2))\n",
    "\n",
    "distance(np.array([2,1]), np.array([1,0]))"
   ]
  },
  {
   "cell_type": "code",
   "execution_count": 4,
   "metadata": {},
   "outputs": [
    {
     "data": {
      "text/plain": [
       "1.4142135623730951"
      ]
     },
     "execution_count": 4,
     "metadata": {},
     "output_type": "execute_result"
    }
   ],
   "source": [
    "def distance3(x1, x2):\n",
    "    return np.sqrt(np.sum( (x1-x2)**2) )\n",
    "\n",
    "distance3(np.array([2,1]), np.array([1,0]))"
   ]
  },
  {
   "cell_type": "markdown",
   "metadata": {},
   "source": [
    "Now we are ready to implement the nearest neighbor classifier:"
   ]
  },
  {
   "cell_type": "code",
   "execution_count": 5,
   "metadata": {},
   "outputs": [],
   "source": [
    "class nearest_neighbor:\n",
    "    def __init__(self):\n",
    "        pass\n",
    "    def fit(self, X, y):\n",
    "        self.X = X\n",
    "        self.y = y\n",
    "    def get_nearest(self, x):\n",
    "        distances = [distance(x, self.X[i]) for i in range(len(self.X))]\n",
    "        return np.argmin(distances)\n",
    "    def predict(self, x) :\n",
    "        return self.y[self.get_nearest(x)]"
   ]
  },
  {
   "cell_type": "markdown",
   "metadata": {},
   "source": [
    "Let's apply this classifier to the digit classification dataset bundled with scikit-learn:"
   ]
  },
  {
   "cell_type": "code",
   "execution_count": 6,
   "metadata": {},
   "outputs": [],
   "source": [
    "from sklearn import datasets\n",
    "digits = datasets.load_digits()"
   ]
  },
  {
   "cell_type": "code",
   "execution_count": 7,
   "metadata": {},
   "outputs": [
    {
     "name": "stdout",
     "output_type": "stream",
     "text": [
      "(1797, 64) (1797,)\n"
     ]
    }
   ],
   "source": [
    "X = digits.data\n",
    "y = digits.target\n",
    "print(X.shape, y.shape)"
   ]
  },
  {
   "cell_type": "code",
   "execution_count": 8,
   "metadata": {},
   "outputs": [
    {
     "data": {
      "image/png": "[encoded data removed]",
      "text/plain": [
       "<Figure size 432x288 with 10 Axes>"
      ]
     },
     "metadata": {
      "needs_background": "light"
     },
     "output_type": "display_data"
    }
   ],
   "source": [
    "num_plots = 10\n",
    "fig, axes = plt.subplots(2, 5);\n",
    "for i in range(num_plots) :\n",
    "    ax = axes[i // 5][i % 5]\n",
    "    ax.set_axis_off()\n",
    "    ax.imshow(np.resize(X[i], (8,8)), \n",
    "              cmap=plt.cm.gray_r, interpolation='nearest')\n",
    "    ax.set_title('label: %i' % y[i])"
   ]
  },
  {
   "cell_type": "markdown",
   "metadata": {},
   "source": [
    "Before using the classifier we need to split the data into training and test sets:"
   ]
  },
  {
   "cell_type": "code",
   "execution_count": 9,
   "metadata": {},
   "outputs": [
    {
     "name": "stdout",
     "output_type": "stream",
     "text": [
      "(1257, 64) (540, 64)\n"
     ]
    }
   ],
   "source": [
    "from sklearn.model_selection import train_test_split\n",
    "X_train, X_test, y_train, y_test = train_test_split(X, y, \n",
    "    test_size=0.3, shuffle=True, random_state=42)\n",
    "\n",
    "print(X_train.shape, X_test.shape)"
   ]
  },
  {
   "cell_type": "markdown",
   "metadata": {},
   "source": [
    "Now we are ready to apply the classifier:"
   ]
  },
  {
   "cell_type": "code",
   "execution_count": 10,
   "metadata": {},
   "outputs": [],
   "source": [
    "nn = nearest_neighbor()\n",
    "nn.fit(X_train, y_train)\n",
    "y_pred = np.array([nn.predict(X_test[i]) for i in range(len(X_test))])"
   ]
  },
  {
   "cell_type": "markdown",
   "metadata": {},
   "source": [
    "How accurate is our classifier?"
   ]
  },
  {
   "cell_type": "code",
   "execution_count": 11,
   "metadata": {},
   "outputs": [
    {
     "data": {
      "text/plain": [
       "0.9833333333333333"
      ]
     },
     "execution_count": 11,
     "metadata": {},
     "output_type": "execute_result"
    }
   ],
   "source": [
    "np.sum(y_pred == y_test)/len(y_test)"
   ]
  },
  {
   "cell_type": "markdown",
   "metadata": {},
   "source": [
    "Next, let's plot training examples and their closest test examples:"
   ]
  },
  {
   "cell_type": "code",
   "execution_count": 12,
   "metadata": {},
   "outputs": [
    {
     "data": {
      "image/png": "[encoded data removed]",
      "text/plain": [
       "<Figure size 432x288 with 10 Axes>"
      ]
     },
     "metadata": {
      "needs_background": "light"
     },
     "output_type": "display_data"
    }
   ],
   "source": [
    "num_plots = 5\n",
    "fig, axes = plt.subplots(5, 2);\n",
    "for i in range(num_plots) :\n",
    "    ax_test = axes[i][0]\n",
    "    ax_nearest = axes[i][1]\n",
    "    ax_test.set_axis_off()\n",
    "    ax_nearest.set_axis_off()\n",
    "    ax_test.imshow(np.resize(X_test[i], (8,8)), \n",
    "              cmap=plt.cm.gray_r, interpolation='nearest')\n",
    "    nearest = X_train[nn.get_nearest(X_test[i])]\n",
    "    ax_nearest.imshow(np.resize(nearest, (8,8)), \n",
    "              cmap=plt.cm.gray_r, interpolation='nearest')\n",
    "    if (i==0):\n",
    "        ax_test.set_title('test example')\n",
    "        ax_nearest.set_title('nearest example')"
   ]
  },
  {
   "cell_type": "markdown",
   "metadata": {},
   "source": [
    "### The decision boundary \n",
    "\n",
    "To obtain a better understanding of the nearest neighbor classifier let us consider the question of the shape of its decision boundary.  While the decision boundary of classifiers such as the perceptron are linear, the nearest neighbor classifier is more flexible as we see next.\n",
    "\n",
    "First, here's a function for plotting the decision boundary of a classifier:"
   ]
  },
  {
   "cell_type": "code",
   "execution_count": 13,
   "metadata": {},
   "outputs": [],
   "source": [
    "from matplotlib.colors import ListedColormap\n",
    "\n",
    "def plot_boundary(classifier, X, y, axes = None) :\n",
    "    \"\"\"\n",
    "    code based on:\n",
    "    https://scikit-learn.org/stable/auto_examples/neighbors/plot_classification.html\n",
    "    \"\"\"\n",
    "    classifier.fit(X, y)\n",
    "    # color maps\n",
    "    cmap_light = ListedColormap(['#FFAAAA', '#AAFFAA', '#AAAAFF'])\n",
    "    cmap_bold = ListedColormap(['#FF0000', '#00FF00', '#0000FF'])\n",
    "    # create a two dimensional grid of points\n",
    "    h = .02  # grid size\n",
    "    x_min, x_max = X[:, 0].min() - 0.2, X[:, 0].max() + 0.2\n",
    "    y_min, y_max = X[:, 1].min() - 0.2, X[:, 1].max() + 0.2\n",
    "    xx, yy = np.meshgrid(np.arange(x_min, x_max, h),\n",
    "                         np.arange(y_min, y_max, h))\n",
    "    Z = classifier.predict(np.c_[xx.ravel(), yy.ravel()])\n",
    "\n",
    "    # plot the predictions on the grid\n",
    "    Z = Z.reshape(xx.shape)\n",
    "    plt.pcolormesh(xx, yy, Z, cmap=cmap_light)\n",
    "\n",
    "    # plot the training points\n",
    "    plt.scatter(X[:, 0], X[:, 1], c=y, cmap=cmap_bold, alpha=0.5)\n",
    "    \n",
    "    plt.xlim(x_min, x_max)\n",
    "    plt.ylim(y_min, y_max)\n",
    "    "
   ]
  },
  {
   "cell_type": "code",
   "execution_count": 14,
   "metadata": {},
   "outputs": [
    {
     "data": {
      "image/png": "[encoded data removed]",
      "text/plain": [
       "<Figure size 432x288 with 1 Axes>"
      ]
     },
     "metadata": {
      "needs_background": "light"
     },
     "output_type": "display_data"
    }
   ],
   "source": [
    "from sklearn.datasets import make_classification\n",
    "X,y = make_classification(n_samples=100, n_features=2, n_informative=2, n_redundant=0, n_repeated=0, n_classes=2, n_clusters_per_class=1, class_sep=0.35, random_state=1)\n",
    "\n",
    "from sklearn.neighbors import KNeighborsClassifier\n",
    "classifier = KNeighborsClassifier(1)\n",
    "\n",
    "plot_boundary(classifier, X, y)"
   ]
  },
  {
   "cell_type": "markdown",
   "metadata": {},
   "source": [
    "To further highlight the way the nearest neighbor classifier works, here's random data in two dimensions:"
   ]
  },
  {
   "cell_type": "code",
   "execution_count": 174,
   "metadata": {},
   "outputs": [
    {
     "name": "stdout",
     "output_type": "stream",
     "text": [
      "(100, 2) (50,)\n"
     ]
    },
    {
     "data": {
      "image/png": "[encoded data removed]",
      "text/plain": [
       "<Figure size 432x288 with 1 Axes>"
      ]
     },
     "metadata": {
      "needs_background": "light"
     },
     "output_type": "display_data"
    }
   ],
   "source": [
    "X_random = rng.random(size=(100, 2))\n",
    "y_random = rng.integers(0, 2, len(X_random))\n",
    "print(X_random.shape, y_grid.shape)\n",
    "classifier = KNeighborsClassifier(1)\n",
    "plot_boundary(classifier, X_random, y_random)"
   ]
  },
  {
   "cell_type": "markdown",
   "metadata": {},
   "source": [
    "### Voronoi diagrams\n",
    "\n",
    "<img style=\"padding: 10px; float:left;\" alt=\"20 points and their Voronoi cells by Balu Ertl CC BY-SA 4.0\" src=\"https://upload.wikimedia.org/wikipedia/commons/5/54/Euclidean_Voronoi_diagram.svg\" width=\"250\">\n",
    "\n",
    "Turns out that the decision boundary of a nearest neighbor classifier is related to the concept of a *Voronoi diagram*.\n",
    "\n",
    "Given a collection of points $\\{\\mathbf{x}_1,\\ldots,\\mathbf{x}_N\\}$,\n",
    "the Voronoi cell associated with point $\\mathbf{x}_i$ is the set of points that are closer to $\\mathbf{x}_i$ than every other point in the collection.\n",
    "\n",
    "For nearest neighbor classification we obtain the decision boundary by merging adjacent Voronoi cells that have the same label associated with them."
   ]
  },
  {
   "cell_type": "markdown",
   "metadata": {},
   "source": [
    "### Question:\n",
    "\n",
    "What accuracy do you expect for a nearest neighbor classifier that is tested on the training set?"
   ]
  },
  {
   "cell_type": "markdown",
   "metadata": {},
   "source": [
    "### Exercise:  Accuracy with increasing levels of noise\n",
    "\n",
    "The nearest neighbor classifier is not robust to the existence of noisy features.  To demonstrate that, use the dataset below and add increasing number of noisy features.  Compute the accuracy of the classifier as you add an increasing number of noise features.\n",
    "\n",
    "Noise features can be added using the numpy [normal](https://numpy.org/doc/stable/reference/random/generated/numpy.random.Generator.normal.html#numpy.random.Generator.normal) method of a random number generator, which samples random numbers from a normal distribution.\n",
    "For example:"
   ]
  },
  {
   "cell_type": "code",
   "execution_count": 17,
   "metadata": {},
   "outputs": [
    {
     "data": {
      "text/plain": [
       "array([[ 0.1727921 ,  0.41080907,  0.16521854],\n",
       "       [-0.65157862,  0.45267793,  0.22318729]])"
      ]
     },
     "execution_count": 17,
     "metadata": {},
     "output_type": "execute_result"
    }
   ],
   "source": [
    "from numpy.random import default_rng\n",
    "rng = default_rng(1)\n",
    "# parameters of rng.normal:\n",
    "# mean, standard deviation, and size of the output array\n",
    "rng.normal(0, 0.5, size=(2,3))\n"
   ]
  },
  {
   "cell_type": "markdown",
   "metadata": {},
   "source": [
    "To add the noise features to the feature matrix you can use the Numpy [hstack](https://numpy.org/doc/stable/reference/generated/numpy.hstack.html) method.  For example to add two noise features:"
   ]
  },
  {
   "cell_type": "code",
   "execution_count": 16,
   "metadata": {},
   "outputs": [],
   "source": [
    "num_noise = 2\n",
    "X_train_noise = np.hstack((X_train, \n",
    "                           rng.normal(0, 0.5, size=(len(X_train),num_noise))))\n",
    "X_test_noise = np.hstack((X_test, \n",
    "                          rng.normal(0, 0.5, size=(len(X_test),num_noise))))\n",
    "     "
   ]
  },
  {
   "cell_type": "markdown",
   "metadata": {},
   "source": [
    "For this exercise, use the following dataset in two dimensions for which the nearest neighbor classifier performs well without noise:"
   ]
  },
  {
   "cell_type": "code",
   "execution_count": 124,
   "metadata": {},
   "outputs": [
    {
     "data": {
      "text/plain": [
       "0.9"
      ]
     },
     "execution_count": 124,
     "metadata": {},
     "output_type": "execute_result"
    },
    {
     "data": {
      "image/png": "[encoded data removed]",
      "text/plain": [
       "<Figure size 432x288 with 1 Axes>"
      ]
     },
     "metadata": {
      "needs_background": "light"
     },
     "output_type": "display_data"
    }
   ],
   "source": [
    "from sklearn.datasets import make_classification\n",
    "X,y = make_classification(n_samples=100, n_features=2, n_informative=2, n_redundant=0, n_repeated=0, n_classes=2, n_clusters_per_class=1, class_sep=0.35, random_state=1)\n",
    "plt.scatter(X[:,0], X[:,1], c=y, alpha=0.5, s=50);\n",
    "\n",
    "X_train, X_test, y_train, y_test = train_test_split(X, y, \n",
    "    test_size=0.3, shuffle=True, random_state=1)\n",
    "nn = nearest_neighbor()\n",
    "nn.fit(X_train, y_train)\n",
    "y_pred = np.array([nn.predict(X_test[i]) for i in range(len(X_test))])\n",
    "\n",
    "np.sum(y_pred == y_test)/len(y_test)"
   ]
  },
  {
   "cell_type": "markdown",
   "metadata": {},
   "source": [
    "In your code, add noise features to the dataset, as described above, where the number of noise features increases from 2 to 32, using the values `[2, 4, 8, 16, 32]`.  Plot the accuracy of the classifier as a function of the number of noise features. "
   ]
  },
  {
   "cell_type": "code",
   "execution_count": null,
   "metadata": {},
   "outputs": [],
   "source": [
    "# your code goes here"
   ]
  },
  {
   "cell_type": "markdown",
   "metadata": {},
   "source": [
    "### Exercise:  a faster Numpy implementation\n",
    "\n",
    "Whereas our rudimentary implementation of the nearest neighbor classifier takes in a single vector as input, the nearest neighbor implementation in scikit-learn takes a matrix of test examples, which removes the need for the computationally slow `for` loop we had to use when computing the output for an entire test set.  In this exercise, extend our nearest neighbor classifier and improve its efficiency so that no for loops would be required for computing the output for a large test set."
   ]
  },
  {
   "cell_type": "code",
   "execution_count": null,
   "metadata": {},
   "outputs": [],
   "source": [
    "class nearest_neighbor:\n",
    "    def __init__(self):\n",
    "        pass\n",
    "    def fit(self, X, y):\n",
    "        self.X = X\n",
    "        self.y = y\n",
    "    def predict(self, X_test) :\n",
    "        \"\"\"\n",
    "        make nearest neighbor predictions for a two dimensional array \n",
    "        X_test, representing a test set.\n",
    "        The number of columns of X_test needs to be the same as the \n",
    "        number of columns of the training data.\n",
    "        \n",
    "        return:  an array of predictions for X_test\n",
    "        \"\"\"\n",
    "        return 0\n",
    "    "
   ]
  },
  {
   "cell_type": "code",
   "execution_count": null,
   "metadata": {},
   "outputs": [],
   "source": []
  }
 ],
 "metadata": {
  "kernelspec": {
   "display_name": "Python 3",
   "language": "python",
   "name": "python3"
  },
  "language_info": {
   "codemirror_mode": {
    "name": "ipython",
    "version": 3
   },
   "file_extension": ".py",
   "mimetype": "text/x-python",
   "name": "python",
   "nbconvert_exporter": "python",
   "pygments_lexer": "ipython3",
   "version": "3.7.6"
  }
 },
 "nbformat": 4,
 "nbformat_minor": 1
}

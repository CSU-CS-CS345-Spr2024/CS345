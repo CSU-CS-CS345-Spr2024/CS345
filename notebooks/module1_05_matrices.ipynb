{
 "cells": [
  {
   "cell_type": "markdown",
   "metadata": {},
   "source": [
    "*This notebook is part of  course materials for CS 345: Machine Learning Foundations and Practice at Colorado State University.\n",
    "Original versions were created by Asa Ben-Hur.\n",
    "The content is availabe [on GitHub](https://github.com/asabenhur/CS345).*\n",
    "\n",
    "*The text is released under the [CC BY-SA license](https://creativecommons.org/licenses/by-sa/4.0/), and code is released under the [MIT license](https://opensource.org/licenses/MIT).*\n",
    "\n",
    "<img style=\"padding: 10px; float:right;\" alt=\"CC-BY-SA icon.svg in public domain\" src=\"https://upload.wikimedia.org/wikipedia/commons/d/d0/CC-BY-SA_icon.svg\" width=\"125\">\n"
   ]
  },
  {
   "cell_type": "markdown",
   "metadata": {},
   "source": [
    "<a href=\"https://colab.research.google.com/github//asabenhur/CS345/blob/master/notebooks/module1_02_labeled_data.ipynb\">\n",
    "  <img align=\"left\" src=\"https://colab.research.google.com/assets/colab-badge.svg\" alt=\"Open In Colab\"/>\n",
    "</a>"
   ]
  },
  {
   "cell_type": "code",
   "execution_count": 1,
   "metadata": {},
   "outputs": [
    {
     "data": {
      "application/javascript": [
       "IPython.notebook.set_autosave_interval(0)"
      ]
     },
     "metadata": {},
     "output_type": "display_data"
    },
    {
     "name": "stdout",
     "output_type": "stream",
     "text": [
      "Autosave disabled\n"
     ]
    }
   ],
   "source": [
    "import numpy as np\n",
    "%autosave 0"
   ]
  },
  {
   "cell_type": "markdown",
   "metadata": {},
   "source": [
    "# Matrices and matrix operations\n",
    "\n",
    "In this notebook we will introduce matrices as an efficient way to store and manipulate datasets.  We will introduce them from a mathematical perspective, and how they are implemented in Python using Numpy.\n",
    "\n",
    "\n",
    "A **matrix** is a rectangular array of scalar values (i.e. numbers), which are the **elements** of the matrix.\n",
    "For example\n",
    "\n",
    "\\begin{bmatrix} 1 & 2 & 3 \\\\ 4 & 5 & 6 \\end{bmatrix}\n",
    "\n",
    "Like, vectors, matrices are ubiquitous in machine learning.\n",
    "In fact, it's going to be very useful to think of a matrix as a list of vectors.\n",
    "Those vectors, either make up the rows or columns of the matrix.\n",
    "\n",
    "Matrices are convenient and very efficient to perform operations on many vectors at a time.\n"
   ]
  },
  {
   "cell_type": "markdown",
   "metadata": {},
   "source": [
    "### Matrices in Python\n",
    "\n",
    "As was the case for vectors, we can represent matrices using Python lists.  Except, that here, we will use lists-of-lists:"
   ]
  },
  {
   "cell_type": "code",
   "execution_count": 5,
   "metadata": {},
   "outputs": [],
   "source": [
    "A = [\n",
    "    [1, 2, 3],\n",
    "    [4, 5, 6]\n",
    "]"
   ]
  },
  {
   "cell_type": "markdown",
   "metadata": {},
   "source": [
    "Numpy provides a much more efficient way to represent and manipulate matrix.  It also supports optimized implementations of many matrix operations.  For example:\n",
    "\n"
   ]
  },
  {
   "cell_type": "code",
   "execution_count": 3,
   "metadata": {},
   "outputs": [
    {
     "data": {
      "text/plain": [
       "array([[1, 2, 3],\n",
       "       [4, 5, 6]])"
      ]
     },
     "execution_count": 3,
     "metadata": {},
     "output_type": "execute_result"
    }
   ],
   "source": [
    "A = np.array([\n",
    "    [1, 2 ,3],\n",
    "    [4, 5, 6]\n",
    "])\n",
    "A"
   ]
  },
  {
   "cell_type": "markdown",
   "metadata": {},
   "source": [
    "By convention, we will use uppercase names to refer to matrices.\n"
   ]
  },
  {
   "cell_type": "markdown",
   "metadata": {},
   "source": [
    "### The shape of a matrix\n",
    "\n",
    "The shape of a matrix is its number of rows and columns.\n",
    "By convention, an $n \\times m$ matrix has $n$ rows and $m$ columns.\n",
    "For example, the matrix $A$ defined above is a $2 \\times 3$ matrix.\n",
    "\n",
    "In Numpy, the shape attribute provides that information:"
   ]
  },
  {
   "cell_type": "code",
   "execution_count": null,
   "metadata": {},
   "outputs": [],
   "source": [
    "A.shape"
   ]
  },
  {
   "cell_type": "markdown",
   "metadata": {},
   "source": [
    "**Note**: the size attribute of a Numpy array is its total number of elements."
   ]
  },
  {
   "cell_type": "markdown",
   "metadata": {},
   "source": [
    "### Indexing\n",
    "\n",
    "The number in the $i^{th}$ row, and $j^{th}$ column of a matrix $X$ is sometimes denoted as $X_{i,j}$ or $X_{ij}$.\n",
    "Using this notation we can express a matrix $X$ from its elements as:\n",
    "\n",
    "$$\n",
    "X = \\begin{pmatrix}\n",
    "  X_{1,1} & X_{1,2} & X_{1,3} &\\ldots & X_{1,m}\\\\\n",
    "  X_{2,1} & X_{2,2} & X_{2,3} & \\ldots & X_{2,m}\\\\\n",
    "  \\vdots & \\vdots & \\vdots & \\ddots & \\vdots \\\\\n",
    "  X_{n,1} & X_{n,2} & X_{n,3} & \\cdots & X_{n,m}\\\\\n",
    "\\end{pmatrix}\n",
    "$$\n",
    "\n",
    "In math indices generally start at 1. But in programming they usually start at 0 (this is called 0-based indexing). So to access $A_{2,3}$ programmatically, we need to write this:"
   ]
  },
  {
   "cell_type": "code",
   "execution_count": null,
   "metadata": {},
   "outputs": [],
   "source": [
    "A[1,2]  # 2nd row, 3rd column"
   ]
  },
  {
   "cell_type": "markdown",
   "metadata": {},
   "source": [
    "\n",
    "### Matrices for representing machine learning data\n",
    "\n",
    "As mentioned above, a matrix can be formed from a collection of vectors.\n",
    "\n",
    "Let $\\mathbf{x}_i$ where $i=1,\\ldots,N$ be vectors of size $m$.\n",
    "Let $X$ be the matrix whose rows are the vectors $\\mathbf{x}_i$, i.e.\n",
    "\n",
    "$$\n",
    "X = \\begin{pmatrix}\n",
    "  - & \\mathbf{x}_1^\\top & - \\\\\n",
    "  - & \\mathbf{x}_2^\\top & - \\\\\n",
    "   & \\vdots &  \\\\\n",
    "  - & \\mathbf{x}_N^\\top & - \\\\\n",
    "\\end{pmatrix}\n",
    "$$\n",
    "\n",
    "\n",
    "This matrix $X$ has dimensions $N \\times d$.\n",
    "In this way we can represent the feature vectors of a dataset as a matrix.\n",
    "Recall that we defined a labeled dataset as a collection of vectors and their associated labels:\n",
    "$\n",
    "\\mathcal{D} = \\{ \\;(\\mathbf{x}_i, y_i) \\; \\}_{i=1}^N,\n",
    "$\n",
    "where $\\mathbf{x}_i \\in \\mathbb{R}^d$ and $y_i$ is the label associated with $\\mathbf{x}_i$.\n"
   ]
  },
  {
   "cell_type": "markdown",
   "metadata": {},
   "source": [
    "### Operations on matrices\n",
    "\n",
    "Like vectors, matrices support multiplication by a scalar, addition,  ...\n",
    "\n",
    "\n",
    "#### Matrix-vector multiplication\n",
    "\n",
    "Given a matrix $X$ of size $N \\times d$ and a $d$ dimensional vector $\\mathbf{w}$, we can define the matrix-vector product $X \\mathbf{w}$ to be an $N$-dimensional vector \n",
    "\n",
    "$$\n",
    "X \\mathbf{w} = ( \\mathbf{x}_1^\\top \\mathbf{w}, \\ldots, \\mathbf{x}_N^\\top \\mathbf{w}).\n",
    "$$\n",
    "\n",
    "In Numpy this operation can be performed by the same function used for dot-products between vectors:\n"
   ]
  },
  {
   "cell_type": "code",
   "execution_count": 6,
   "metadata": {},
   "outputs": [
    {
     "data": {
      "text/plain": [
       "array([ 6, 15])"
      ]
     },
     "execution_count": 6,
     "metadata": {},
     "output_type": "execute_result"
    }
   ],
   "source": [
    "X = np.array([\n",
    "    [1, 2 ,3],\n",
    "    [4, 5, 6]\n",
    "])\n",
    "w = np.array([1,1,1])\n",
    "np.dot(X, w)"
   ]
  },
  {
   "cell_type": "markdown",
   "metadata": {},
   "source": [
    "An equivalent way of expressing the matrix-vector product uses the `@` operator:"
   ]
  },
  {
   "cell_type": "code",
   "execution_count": 13,
   "metadata": {},
   "outputs": [
    {
     "data": {
      "text/plain": [
       "array([ 6, 15])"
      ]
     },
     "execution_count": 13,
     "metadata": {},
     "output_type": "execute_result"
    }
   ],
   "source": [
    "X @ w"
   ]
  },
  {
   "cell_type": "markdown",
   "metadata": {},
   "source": [
    "Note that the same result can be obtained by stacking dot products row by row (but with a loss of efficiency):"
   ]
  },
  {
   "cell_type": "code",
   "execution_count": 15,
   "metadata": {},
   "outputs": [
    {
     "data": {
      "text/plain": [
       "array([ 6, 15])"
      ]
     },
     "execution_count": 15,
     "metadata": {},
     "output_type": "execute_result"
    }
   ],
   "source": [
    "np.array([np.dot(X[0], w), np.dot(X[1], w)])"
   ]
  },
  {
   "cell_type": "markdown",
   "metadata": {},
   "source": [
    "This operation is very useful for expressing the workings of a linear model on an entire dataset.\n",
    "\n",
    "The matrix-vector product requires that the number of columns of the matrix matches the length of the vector.  It is therefore sensitive to the order of its arguments:"
   ]
  },
  {
   "cell_type": "code",
   "execution_count": 17,
   "metadata": {},
   "outputs": [
    {
     "name": "stdout",
     "output_type": "stream",
     "text": [
      "the order or arguments matters in np.dot\n",
      "[ 6 15]\n",
      "[ 6 15]\n"
     ]
    }
   ],
   "source": [
    "try :\n",
    "    print(np.dot(w, X))\n",
    "except :\n",
    "    print(\"the order or arguments matters in np.dot\")\n",
    "        \n",
    "print(np.dot(w, X.T))\n",
    "print(w @ X.T)"
   ]
  },
  {
   "cell_type": "markdown",
   "metadata": {},
   "source": [
    "\n",
    "The matrix-vector product discussed above is a special case of the genral matrix multiplication operation.  We won't need the general version of this product in the first part of the course, so we won't introduce it (yet).\n",
    "\n",
    "The `@` operator was introduced in version 3.5 of Python (the following document discusses the official [proposal](https://www.python.org/dev/peps/pep-0465/) for adding it to the language).\n",
    "\n",
    "\n",
    "\n",
    "\n",
    "### Exercise\n",
    "\n",
    "* As discussed above, the `@` operator performs matrix multiplication.  Explore the standard multiplication operator `*` between two-dimensional arrays and between two dimensional arrays and one-dimensional arrays and scalars."
   ]
  },
  {
   "cell_type": "code",
   "execution_count": null,
   "metadata": {},
   "outputs": [],
   "source": []
  }
 ],
 "metadata": {
  "kernelspec": {
   "display_name": "Python 3",
   "language": "python",
   "name": "python3"
  },
  "language_info": {
   "codemirror_mode": {
    "name": "ipython",
    "version": 3
   },
   "file_extension": ".py",
   "mimetype": "text/x-python",
   "name": "python",
   "nbconvert_exporter": "python",
   "pygments_lexer": "ipython3",
   "version": "3.7.6"
  }
 },
 "nbformat": 4,
 "nbformat_minor": 4
}
